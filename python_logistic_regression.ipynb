{
 "cells": [
  {
   "cell_type": "code",
   "execution_count": 2,
   "id": "2962b492",
   "metadata": {},
   "outputs": [
    {
     "name": "stdout",
     "output_type": "stream",
     "text": [
      "Collecting kaleido\n",
      "  Using cached kaleido-0.2.1-py2.py3-none-manylinux1_x86_64.whl (79.9 MB)\n",
      "Installing collected packages: kaleido\n",
      "Successfully installed kaleido-0.2.1\n"
     ]
    }
   ],
   "source": [
    "!pip install -U kaleido"
   ]
  },
  {
   "cell_type": "markdown",
   "id": "3b366b33",
   "metadata": {},
   "source": [
    "### Logistic Regression in Python"
   ]
  },
  {
   "cell_type": "markdown",
   "id": "60240f26",
   "metadata": {},
   "source": [
    "**Logistic regression** is a classifcation technique where we want to find the probability of a target given a certain distribution of data.  Here's the equation:\n",
    "\n",
    "$$P (Y = 1 | X = x) = \\sigma(z) \\space $$ where the linear function$$ \\space z = \\theta_0 + \\sum_{i=1}^m \\theta_i x_i $$\n",
    "\n",
    "Let's open up $z$ a little more. \n",
    "We have $$z = \\theta^T x = \\sum_{i=0}^m \\theta_ix_i = \\theta_0x_0 + \\theta_1x_1 + ... + \\theta_mx_m $$\n",
    "\n",
    "\n",
    "\n",
    "where $x_0 = 1$ and the superscript $T$ represents a matrix transpose. $\\theta^Tx$ is simply the dot product of the vectors $\\theta$ and $x$.\n",
    "\n",
    "\n",
    "Because $x_0 = 1$, we can bring $ \\theta_0$ outside the summation.  The expression $ P (Y = 1 | X = x) $  translates to \"The probability of $Y$ being a 1 given $X$\".  In other words what is the probability of $Y$ being a 1 given that we know that $X=x$?  \n",
    "In the equation above $ \\sigma(z)$ represents the sigmoid function with $z$ as its variable.  Here's a more comprehensive look at the sigmoid function:\n",
    " $$ \\sigma(z) = \\frac {1}{(1 + e^{-z})}$$\n",
    " \n",
    "The sigmoid function is a non-linear function whose output range is (0,1) where the values 0 and 1 are asymptotes.\n",
    "\n",
    "Now since $z = \\theta^T x$, we have:\n",
    "$$ P (Y = 1 | X = x) = \\sigma(\\theta^Tx)$$\n",
    "\n",
    "$$ P (Y = 0 | X = x) = 1-\\sigma(\\theta^Tx)$$\n",
    "\n",
    "For example if $\\sigma(z)= .75$, then $1- \\sigma(z) = .25$ and these two values must always add up to 1 (Total Law of Probability)."
   ]
  },
  {
   "cell_type": "code",
   "execution_count": 4,
   "id": "2367cf10",
   "metadata": {
    "scrolled": true
   },
   "outputs": [
    {
     "data": {
      "application/vnd.plotly.v1+json": {
       "config": {
        "plotlyServerURL": "https://plot.ly"
       },
       "data": [
        {
         "hovertemplate": "z=%{x}<br>sigmoid(z)=%{y}<extra></extra>",
         "legendgroup": "",
         "line": {
          "color": "#636efa",
          "dash": "solid"
         },
         "marker": {
          "symbol": "circle"
         },
         "mode": "lines",
         "name": "",
         "orientation": "v",
         "showlegend": false,
         "type": "scatter",
         "x": [
          -10,
          -9.797979797979798,
          -9.595959595959595,
          -9.393939393939394,
          -9.191919191919192,
          -8.98989898989899,
          -8.787878787878787,
          -8.585858585858587,
          -8.383838383838384,
          -8.181818181818182,
          -7.979797979797979,
          -7.777777777777778,
          -7.575757575757576,
          -7.373737373737374,
          -7.171717171717171,
          -6.96969696969697,
          -6.767676767676768,
          -6.565656565656566,
          -6.363636363636363,
          -6.161616161616162,
          -5.959595959595959,
          -5.757575757575758,
          -5.555555555555555,
          -5.353535353535354,
          -5.151515151515151,
          -4.94949494949495,
          -4.747474747474747,
          -4.545454545454546,
          -4.343434343434343,
          -4.141414141414142,
          -3.9393939393939394,
          -3.737373737373738,
          -3.5353535353535355,
          -3.333333333333333,
          -3.1313131313131315,
          -2.929292929292929,
          -2.7272727272727275,
          -2.525252525252525,
          -2.3232323232323235,
          -2.121212121212121,
          -1.9191919191919187,
          -1.717171717171718,
          -1.5151515151515156,
          -1.3131313131313131,
          -1.1111111111111107,
          -0.9090909090909101,
          -0.7070707070707076,
          -0.5050505050505052,
          -0.30303030303030276,
          -0.10101010101010033,
          0.10101010101010033,
          0.30303030303030276,
          0.5050505050505052,
          0.7070707070707076,
          0.9090909090909083,
          1.1111111111111107,
          1.3131313131313131,
          1.5151515151515156,
          1.7171717171717162,
          1.9191919191919187,
          2.121212121212121,
          2.3232323232323235,
          2.525252525252524,
          2.7272727272727266,
          2.929292929292929,
          3.1313131313131315,
          3.333333333333334,
          3.5353535353535346,
          3.737373737373737,
          3.9393939393939394,
          4.141414141414142,
          4.3434343434343425,
          4.545454545454545,
          4.747474747474747,
          4.94949494949495,
          5.1515151515151505,
          5.353535353535353,
          5.555555555555555,
          5.757575757575758,
          5.9595959595959584,
          6.161616161616163,
          6.363636363636363,
          6.565656565656564,
          6.767676767676768,
          6.969696969696969,
          7.171717171717173,
          7.373737373737374,
          7.575757575757574,
          7.777777777777779,
          7.979797979797979,
          8.18181818181818,
          8.383838383838384,
          8.585858585858585,
          8.787878787878789,
          8.98989898989899,
          9.19191919191919,
          9.393939393939394,
          9.595959595959595,
          9.7979797979798,
          10
         ],
         "xaxis": "x",
         "y": [
          4.5397868702434395e-05,
          5.556064893935847e-05,
          6.7998317442358e-05,
          8.322001972209245e-05,
          0.00010184881542721271,
          0.00012464714594414533,
          0.00015254798624649647,
          0.00018669294496130814,
          0.00022847885532128418,
          0.0002796147386491923,
          0.00034219143371662803,
          0.0004187666844443735,
          0.0005124690821944584,
          0.0006271249872756847,
          0.000767413429918266,
          0.0009390550390618305,
          0.001149042294880872,
          0.0014059198755086322,
          0.0017201255952192596,
          0.0021044044291184333,
          0.0025743103931375314,
          0.0031488135776798513,
          0.003851032355930255,
          0.004709113572114011,
          0.0057572861219081835,
          0.007037115364564376,
          0.008598986610189428,
          0.010503844513285416,
          0.012825210092764685,
          0.015651486142818367,
          0.019088541989923387,
          0.0232625358308855,
          0.0283228820443032,
          0.03444519566621118,
          0.04183394000551971,
          0.05072436056205437,
          0.06138310740349217,
          0.07410673632504733,
          0.08921706025119844,
          0.10705214621417715,
          0.12795170492445268,
          0.15223582314389053,
          0.18017659335766972,
          0.21196333386923713,
          0.2476638011390717,
          0.28718590138250244,
          0.33024642963181144,
          0.37635451749670706,
          0.42481686806284763,
          0.4747689239079115,
          0.5252310760920885,
          0.5751831319371523,
          0.623645482503293,
          0.6697535703681886,
          0.7128140986174972,
          0.7523361988609284,
          0.7880366661307628,
          0.8198234066423302,
          0.8477641768561092,
          0.8720482950755473,
          0.8929478537858229,
          0.9107829397488015,
          0.9258932636749527,
          0.9386168925965077,
          0.9492756394379457,
          0.9581660599944802,
          0.9655548043337889,
          0.9716771179556968,
          0.9767374641691144,
          0.9809114580100765,
          0.9843485138571816,
          0.9871747899072354,
          0.9894961554867145,
          0.9914010133898106,
          0.9929628846354357,
          0.9942427138780918,
          0.995290886427886,
          0.9961489676440697,
          0.9968511864223202,
          0.9974256896068625,
          0.9978955955708816,
          0.9982798744047808,
          0.9985940801244912,
          0.9988509577051191,
          0.9990609449609381,
          0.9992325865700818,
          0.9993728750127243,
          0.9994875309178055,
          0.9995812333155556,
          0.9996578085662833,
          0.9997203852613508,
          0.9997715211446788,
          0.9998133070550387,
          0.9998474520137535,
          0.9998753528540559,
          0.9998981511845727,
          0.999916779980278,
          0.9999320016825577,
          0.9999444393510606,
          0.9999546021312976
         ],
         "yaxis": "y"
        }
       ],
       "layout": {
        "legend": {
         "tracegroupgap": 0
        },
        "margin": {
         "t": 60
        },
        "template": {
         "data": {
          "bar": [
           {
            "error_x": {
             "color": "#2a3f5f"
            },
            "error_y": {
             "color": "#2a3f5f"
            },
            "marker": {
             "line": {
              "color": "#E5ECF6",
              "width": 0.5
             },
             "pattern": {
              "fillmode": "overlay",
              "size": 10,
              "solidity": 0.2
             }
            },
            "type": "bar"
           }
          ],
          "barpolar": [
           {
            "marker": {
             "line": {
              "color": "#E5ECF6",
              "width": 0.5
             },
             "pattern": {
              "fillmode": "overlay",
              "size": 10,
              "solidity": 0.2
             }
            },
            "type": "barpolar"
           }
          ],
          "carpet": [
           {
            "aaxis": {
             "endlinecolor": "#2a3f5f",
             "gridcolor": "white",
             "linecolor": "white",
             "minorgridcolor": "white",
             "startlinecolor": "#2a3f5f"
            },
            "baxis": {
             "endlinecolor": "#2a3f5f",
             "gridcolor": "white",
             "linecolor": "white",
             "minorgridcolor": "white",
             "startlinecolor": "#2a3f5f"
            },
            "type": "carpet"
           }
          ],
          "choropleth": [
           {
            "colorbar": {
             "outlinewidth": 0,
             "ticks": ""
            },
            "type": "choropleth"
           }
          ],
          "contour": [
           {
            "colorbar": {
             "outlinewidth": 0,
             "ticks": ""
            },
            "colorscale": [
             [
              0,
              "#0d0887"
             ],
             [
              0.1111111111111111,
              "#46039f"
             ],
             [
              0.2222222222222222,
              "#7201a8"
             ],
             [
              0.3333333333333333,
              "#9c179e"
             ],
             [
              0.4444444444444444,
              "#bd3786"
             ],
             [
              0.5555555555555556,
              "#d8576b"
             ],
             [
              0.6666666666666666,
              "#ed7953"
             ],
             [
              0.7777777777777778,
              "#fb9f3a"
             ],
             [
              0.8888888888888888,
              "#fdca26"
             ],
             [
              1,
              "#f0f921"
             ]
            ],
            "type": "contour"
           }
          ],
          "contourcarpet": [
           {
            "colorbar": {
             "outlinewidth": 0,
             "ticks": ""
            },
            "type": "contourcarpet"
           }
          ],
          "heatmap": [
           {
            "colorbar": {
             "outlinewidth": 0,
             "ticks": ""
            },
            "colorscale": [
             [
              0,
              "#0d0887"
             ],
             [
              0.1111111111111111,
              "#46039f"
             ],
             [
              0.2222222222222222,
              "#7201a8"
             ],
             [
              0.3333333333333333,
              "#9c179e"
             ],
             [
              0.4444444444444444,
              "#bd3786"
             ],
             [
              0.5555555555555556,
              "#d8576b"
             ],
             [
              0.6666666666666666,
              "#ed7953"
             ],
             [
              0.7777777777777778,
              "#fb9f3a"
             ],
             [
              0.8888888888888888,
              "#fdca26"
             ],
             [
              1,
              "#f0f921"
             ]
            ],
            "type": "heatmap"
           }
          ],
          "heatmapgl": [
           {
            "colorbar": {
             "outlinewidth": 0,
             "ticks": ""
            },
            "colorscale": [
             [
              0,
              "#0d0887"
             ],
             [
              0.1111111111111111,
              "#46039f"
             ],
             [
              0.2222222222222222,
              "#7201a8"
             ],
             [
              0.3333333333333333,
              "#9c179e"
             ],
             [
              0.4444444444444444,
              "#bd3786"
             ],
             [
              0.5555555555555556,
              "#d8576b"
             ],
             [
              0.6666666666666666,
              "#ed7953"
             ],
             [
              0.7777777777777778,
              "#fb9f3a"
             ],
             [
              0.8888888888888888,
              "#fdca26"
             ],
             [
              1,
              "#f0f921"
             ]
            ],
            "type": "heatmapgl"
           }
          ],
          "histogram": [
           {
            "marker": {
             "pattern": {
              "fillmode": "overlay",
              "size": 10,
              "solidity": 0.2
             }
            },
            "type": "histogram"
           }
          ],
          "histogram2d": [
           {
            "colorbar": {
             "outlinewidth": 0,
             "ticks": ""
            },
            "colorscale": [
             [
              0,
              "#0d0887"
             ],
             [
              0.1111111111111111,
              "#46039f"
             ],
             [
              0.2222222222222222,
              "#7201a8"
             ],
             [
              0.3333333333333333,
              "#9c179e"
             ],
             [
              0.4444444444444444,
              "#bd3786"
             ],
             [
              0.5555555555555556,
              "#d8576b"
             ],
             [
              0.6666666666666666,
              "#ed7953"
             ],
             [
              0.7777777777777778,
              "#fb9f3a"
             ],
             [
              0.8888888888888888,
              "#fdca26"
             ],
             [
              1,
              "#f0f921"
             ]
            ],
            "type": "histogram2d"
           }
          ],
          "histogram2dcontour": [
           {
            "colorbar": {
             "outlinewidth": 0,
             "ticks": ""
            },
            "colorscale": [
             [
              0,
              "#0d0887"
             ],
             [
              0.1111111111111111,
              "#46039f"
             ],
             [
              0.2222222222222222,
              "#7201a8"
             ],
             [
              0.3333333333333333,
              "#9c179e"
             ],
             [
              0.4444444444444444,
              "#bd3786"
             ],
             [
              0.5555555555555556,
              "#d8576b"
             ],
             [
              0.6666666666666666,
              "#ed7953"
             ],
             [
              0.7777777777777778,
              "#fb9f3a"
             ],
             [
              0.8888888888888888,
              "#fdca26"
             ],
             [
              1,
              "#f0f921"
             ]
            ],
            "type": "histogram2dcontour"
           }
          ],
          "mesh3d": [
           {
            "colorbar": {
             "outlinewidth": 0,
             "ticks": ""
            },
            "type": "mesh3d"
           }
          ],
          "parcoords": [
           {
            "line": {
             "colorbar": {
              "outlinewidth": 0,
              "ticks": ""
             }
            },
            "type": "parcoords"
           }
          ],
          "pie": [
           {
            "automargin": true,
            "type": "pie"
           }
          ],
          "scatter": [
           {
            "marker": {
             "colorbar": {
              "outlinewidth": 0,
              "ticks": ""
             }
            },
            "type": "scatter"
           }
          ],
          "scatter3d": [
           {
            "line": {
             "colorbar": {
              "outlinewidth": 0,
              "ticks": ""
             }
            },
            "marker": {
             "colorbar": {
              "outlinewidth": 0,
              "ticks": ""
             }
            },
            "type": "scatter3d"
           }
          ],
          "scattercarpet": [
           {
            "marker": {
             "colorbar": {
              "outlinewidth": 0,
              "ticks": ""
             }
            },
            "type": "scattercarpet"
           }
          ],
          "scattergeo": [
           {
            "marker": {
             "colorbar": {
              "outlinewidth": 0,
              "ticks": ""
             }
            },
            "type": "scattergeo"
           }
          ],
          "scattergl": [
           {
            "marker": {
             "colorbar": {
              "outlinewidth": 0,
              "ticks": ""
             }
            },
            "type": "scattergl"
           }
          ],
          "scattermapbox": [
           {
            "marker": {
             "colorbar": {
              "outlinewidth": 0,
              "ticks": ""
             }
            },
            "type": "scattermapbox"
           }
          ],
          "scatterpolar": [
           {
            "marker": {
             "colorbar": {
              "outlinewidth": 0,
              "ticks": ""
             }
            },
            "type": "scatterpolar"
           }
          ],
          "scatterpolargl": [
           {
            "marker": {
             "colorbar": {
              "outlinewidth": 0,
              "ticks": ""
             }
            },
            "type": "scatterpolargl"
           }
          ],
          "scatterternary": [
           {
            "marker": {
             "colorbar": {
              "outlinewidth": 0,
              "ticks": ""
             }
            },
            "type": "scatterternary"
           }
          ],
          "surface": [
           {
            "colorbar": {
             "outlinewidth": 0,
             "ticks": ""
            },
            "colorscale": [
             [
              0,
              "#0d0887"
             ],
             [
              0.1111111111111111,
              "#46039f"
             ],
             [
              0.2222222222222222,
              "#7201a8"
             ],
             [
              0.3333333333333333,
              "#9c179e"
             ],
             [
              0.4444444444444444,
              "#bd3786"
             ],
             [
              0.5555555555555556,
              "#d8576b"
             ],
             [
              0.6666666666666666,
              "#ed7953"
             ],
             [
              0.7777777777777778,
              "#fb9f3a"
             ],
             [
              0.8888888888888888,
              "#fdca26"
             ],
             [
              1,
              "#f0f921"
             ]
            ],
            "type": "surface"
           }
          ],
          "table": [
           {
            "cells": {
             "fill": {
              "color": "#EBF0F8"
             },
             "line": {
              "color": "white"
             }
            },
            "header": {
             "fill": {
              "color": "#C8D4E3"
             },
             "line": {
              "color": "white"
             }
            },
            "type": "table"
           }
          ]
         },
         "layout": {
          "annotationdefaults": {
           "arrowcolor": "#2a3f5f",
           "arrowhead": 0,
           "arrowwidth": 1
          },
          "autotypenumbers": "strict",
          "coloraxis": {
           "colorbar": {
            "outlinewidth": 0,
            "ticks": ""
           }
          },
          "colorscale": {
           "diverging": [
            [
             0,
             "#8e0152"
            ],
            [
             0.1,
             "#c51b7d"
            ],
            [
             0.2,
             "#de77ae"
            ],
            [
             0.3,
             "#f1b6da"
            ],
            [
             0.4,
             "#fde0ef"
            ],
            [
             0.5,
             "#f7f7f7"
            ],
            [
             0.6,
             "#e6f5d0"
            ],
            [
             0.7,
             "#b8e186"
            ],
            [
             0.8,
             "#7fbc41"
            ],
            [
             0.9,
             "#4d9221"
            ],
            [
             1,
             "#276419"
            ]
           ],
           "sequential": [
            [
             0,
             "#0d0887"
            ],
            [
             0.1111111111111111,
             "#46039f"
            ],
            [
             0.2222222222222222,
             "#7201a8"
            ],
            [
             0.3333333333333333,
             "#9c179e"
            ],
            [
             0.4444444444444444,
             "#bd3786"
            ],
            [
             0.5555555555555556,
             "#d8576b"
            ],
            [
             0.6666666666666666,
             "#ed7953"
            ],
            [
             0.7777777777777778,
             "#fb9f3a"
            ],
            [
             0.8888888888888888,
             "#fdca26"
            ],
            [
             1,
             "#f0f921"
            ]
           ],
           "sequentialminus": [
            [
             0,
             "#0d0887"
            ],
            [
             0.1111111111111111,
             "#46039f"
            ],
            [
             0.2222222222222222,
             "#7201a8"
            ],
            [
             0.3333333333333333,
             "#9c179e"
            ],
            [
             0.4444444444444444,
             "#bd3786"
            ],
            [
             0.5555555555555556,
             "#d8576b"
            ],
            [
             0.6666666666666666,
             "#ed7953"
            ],
            [
             0.7777777777777778,
             "#fb9f3a"
            ],
            [
             0.8888888888888888,
             "#fdca26"
            ],
            [
             1,
             "#f0f921"
            ]
           ]
          },
          "colorway": [
           "#636efa",
           "#EF553B",
           "#00cc96",
           "#ab63fa",
           "#FFA15A",
           "#19d3f3",
           "#FF6692",
           "#B6E880",
           "#FF97FF",
           "#FECB52"
          ],
          "font": {
           "color": "#2a3f5f"
          },
          "geo": {
           "bgcolor": "white",
           "lakecolor": "white",
           "landcolor": "#E5ECF6",
           "showlakes": true,
           "showland": true,
           "subunitcolor": "white"
          },
          "hoverlabel": {
           "align": "left"
          },
          "hovermode": "closest",
          "mapbox": {
           "style": "light"
          },
          "paper_bgcolor": "white",
          "plot_bgcolor": "#E5ECF6",
          "polar": {
           "angularaxis": {
            "gridcolor": "white",
            "linecolor": "white",
            "ticks": ""
           },
           "bgcolor": "#E5ECF6",
           "radialaxis": {
            "gridcolor": "white",
            "linecolor": "white",
            "ticks": ""
           }
          },
          "scene": {
           "xaxis": {
            "backgroundcolor": "#E5ECF6",
            "gridcolor": "white",
            "gridwidth": 2,
            "linecolor": "white",
            "showbackground": true,
            "ticks": "",
            "zerolinecolor": "white"
           },
           "yaxis": {
            "backgroundcolor": "#E5ECF6",
            "gridcolor": "white",
            "gridwidth": 2,
            "linecolor": "white",
            "showbackground": true,
            "ticks": "",
            "zerolinecolor": "white"
           },
           "zaxis": {
            "backgroundcolor": "#E5ECF6",
            "gridcolor": "white",
            "gridwidth": 2,
            "linecolor": "white",
            "showbackground": true,
            "ticks": "",
            "zerolinecolor": "white"
           }
          },
          "shapedefaults": {
           "line": {
            "color": "#2a3f5f"
           }
          },
          "ternary": {
           "aaxis": {
            "gridcolor": "white",
            "linecolor": "white",
            "ticks": ""
           },
           "baxis": {
            "gridcolor": "white",
            "linecolor": "white",
            "ticks": ""
           },
           "bgcolor": "#E5ECF6",
           "caxis": {
            "gridcolor": "white",
            "linecolor": "white",
            "ticks": ""
           }
          },
          "title": {
           "x": 0.05
          },
          "xaxis": {
           "automargin": true,
           "gridcolor": "white",
           "linecolor": "white",
           "ticks": "",
           "title": {
            "standoff": 15
           },
           "zerolinecolor": "white",
           "zerolinewidth": 2
          },
          "yaxis": {
           "automargin": true,
           "gridcolor": "white",
           "linecolor": "white",
           "ticks": "",
           "title": {
            "standoff": 15
           },
           "zerolinecolor": "white",
           "zerolinewidth": 2
          }
         }
        },
        "xaxis": {
         "anchor": "y",
         "domain": [
          0,
          1
         ],
         "title": {
          "text": "z"
         }
        },
        "yaxis": {
         "anchor": "x",
         "domain": [
          0,
          1
         ],
         "title": {
          "text": "sigmoid(z)"
         }
        }
       }
      },
      "text/html": [
       "<div>                            <div id=\"587f6747-9421-411c-b57b-c49692421bbe\" class=\"plotly-graph-div\" style=\"height:525px; width:100%;\"></div>            <script type=\"text/javascript\">                require([\"plotly\"], function(Plotly) {                    window.PLOTLYENV=window.PLOTLYENV || {};                                    if (document.getElementById(\"587f6747-9421-411c-b57b-c49692421bbe\")) {                    Plotly.newPlot(                        \"587f6747-9421-411c-b57b-c49692421bbe\",                        [{\"hovertemplate\":\"z=%{x}<br>sigmoid(z)=%{y}<extra></extra>\",\"legendgroup\":\"\",\"line\":{\"color\":\"#636efa\",\"dash\":\"solid\"},\"marker\":{\"symbol\":\"circle\"},\"mode\":\"lines\",\"name\":\"\",\"orientation\":\"v\",\"showlegend\":false,\"x\":[-10.0,-9.797979797979798,-9.595959595959595,-9.393939393939394,-9.191919191919192,-8.98989898989899,-8.787878787878787,-8.585858585858587,-8.383838383838384,-8.181818181818182,-7.979797979797979,-7.777777777777778,-7.575757575757576,-7.373737373737374,-7.171717171717171,-6.96969696969697,-6.767676767676768,-6.565656565656566,-6.363636363636363,-6.161616161616162,-5.959595959595959,-5.757575757575758,-5.555555555555555,-5.353535353535354,-5.151515151515151,-4.94949494949495,-4.747474747474747,-4.545454545454546,-4.343434343434343,-4.141414141414142,-3.9393939393939394,-3.737373737373738,-3.5353535353535355,-3.333333333333333,-3.1313131313131315,-2.929292929292929,-2.7272727272727275,-2.525252525252525,-2.3232323232323235,-2.121212121212121,-1.9191919191919187,-1.717171717171718,-1.5151515151515156,-1.3131313131313131,-1.1111111111111107,-0.9090909090909101,-0.7070707070707076,-0.5050505050505052,-0.30303030303030276,-0.10101010101010033,0.10101010101010033,0.30303030303030276,0.5050505050505052,0.7070707070707076,0.9090909090909083,1.1111111111111107,1.3131313131313131,1.5151515151515156,1.7171717171717162,1.9191919191919187,2.121212121212121,2.3232323232323235,2.525252525252524,2.7272727272727266,2.929292929292929,3.1313131313131315,3.333333333333334,3.5353535353535346,3.737373737373737,3.9393939393939394,4.141414141414142,4.3434343434343425,4.545454545454545,4.747474747474747,4.94949494949495,5.1515151515151505,5.353535353535353,5.555555555555555,5.757575757575758,5.9595959595959584,6.161616161616163,6.363636363636363,6.565656565656564,6.767676767676768,6.969696969696969,7.171717171717173,7.373737373737374,7.575757575757574,7.777777777777779,7.979797979797979,8.18181818181818,8.383838383838384,8.585858585858585,8.787878787878789,8.98989898989899,9.19191919191919,9.393939393939394,9.595959595959595,9.7979797979798,10.0],\"xaxis\":\"x\",\"y\":[4.5397868702434395e-05,5.556064893935847e-05,6.7998317442358e-05,8.322001972209245e-05,0.00010184881542721271,0.00012464714594414533,0.00015254798624649647,0.00018669294496130814,0.00022847885532128418,0.0002796147386491923,0.00034219143371662803,0.0004187666844443735,0.0005124690821944584,0.0006271249872756847,0.000767413429918266,0.0009390550390618305,0.001149042294880872,0.0014059198755086322,0.0017201255952192596,0.0021044044291184333,0.0025743103931375314,0.0031488135776798513,0.003851032355930255,0.004709113572114011,0.0057572861219081835,0.007037115364564376,0.008598986610189428,0.010503844513285416,0.012825210092764685,0.015651486142818367,0.019088541989923387,0.0232625358308855,0.0283228820443032,0.03444519566621118,0.04183394000551971,0.05072436056205437,0.06138310740349217,0.07410673632504733,0.08921706025119844,0.10705214621417715,0.12795170492445268,0.15223582314389053,0.18017659335766972,0.21196333386923713,0.2476638011390717,0.28718590138250244,0.33024642963181144,0.37635451749670706,0.42481686806284763,0.4747689239079115,0.5252310760920885,0.5751831319371523,0.623645482503293,0.6697535703681886,0.7128140986174972,0.7523361988609284,0.7880366661307628,0.8198234066423302,0.8477641768561092,0.8720482950755473,0.8929478537858229,0.9107829397488015,0.9258932636749527,0.9386168925965077,0.9492756394379457,0.9581660599944802,0.9655548043337889,0.9716771179556968,0.9767374641691144,0.9809114580100765,0.9843485138571816,0.9871747899072354,0.9894961554867145,0.9914010133898106,0.9929628846354357,0.9942427138780918,0.995290886427886,0.9961489676440697,0.9968511864223202,0.9974256896068625,0.9978955955708816,0.9982798744047808,0.9985940801244912,0.9988509577051191,0.9990609449609381,0.9992325865700818,0.9993728750127243,0.9994875309178055,0.9995812333155556,0.9996578085662833,0.9997203852613508,0.9997715211446788,0.9998133070550387,0.9998474520137535,0.9998753528540559,0.9998981511845727,0.999916779980278,0.9999320016825577,0.9999444393510606,0.9999546021312976],\"yaxis\":\"y\",\"type\":\"scatter\"}],                        {\"template\":{\"data\":{\"bar\":[{\"error_x\":{\"color\":\"#2a3f5f\"},\"error_y\":{\"color\":\"#2a3f5f\"},\"marker\":{\"line\":{\"color\":\"#E5ECF6\",\"width\":0.5},\"pattern\":{\"fillmode\":\"overlay\",\"size\":10,\"solidity\":0.2}},\"type\":\"bar\"}],\"barpolar\":[{\"marker\":{\"line\":{\"color\":\"#E5ECF6\",\"width\":0.5},\"pattern\":{\"fillmode\":\"overlay\",\"size\":10,\"solidity\":0.2}},\"type\":\"barpolar\"}],\"carpet\":[{\"aaxis\":{\"endlinecolor\":\"#2a3f5f\",\"gridcolor\":\"white\",\"linecolor\":\"white\",\"minorgridcolor\":\"white\",\"startlinecolor\":\"#2a3f5f\"},\"baxis\":{\"endlinecolor\":\"#2a3f5f\",\"gridcolor\":\"white\",\"linecolor\":\"white\",\"minorgridcolor\":\"white\",\"startlinecolor\":\"#2a3f5f\"},\"type\":\"carpet\"}],\"choropleth\":[{\"colorbar\":{\"outlinewidth\":0,\"ticks\":\"\"},\"type\":\"choropleth\"}],\"contour\":[{\"colorbar\":{\"outlinewidth\":0,\"ticks\":\"\"},\"colorscale\":[[0.0,\"#0d0887\"],[0.1111111111111111,\"#46039f\"],[0.2222222222222222,\"#7201a8\"],[0.3333333333333333,\"#9c179e\"],[0.4444444444444444,\"#bd3786\"],[0.5555555555555556,\"#d8576b\"],[0.6666666666666666,\"#ed7953\"],[0.7777777777777778,\"#fb9f3a\"],[0.8888888888888888,\"#fdca26\"],[1.0,\"#f0f921\"]],\"type\":\"contour\"}],\"contourcarpet\":[{\"colorbar\":{\"outlinewidth\":0,\"ticks\":\"\"},\"type\":\"contourcarpet\"}],\"heatmap\":[{\"colorbar\":{\"outlinewidth\":0,\"ticks\":\"\"},\"colorscale\":[[0.0,\"#0d0887\"],[0.1111111111111111,\"#46039f\"],[0.2222222222222222,\"#7201a8\"],[0.3333333333333333,\"#9c179e\"],[0.4444444444444444,\"#bd3786\"],[0.5555555555555556,\"#d8576b\"],[0.6666666666666666,\"#ed7953\"],[0.7777777777777778,\"#fb9f3a\"],[0.8888888888888888,\"#fdca26\"],[1.0,\"#f0f921\"]],\"type\":\"heatmap\"}],\"heatmapgl\":[{\"colorbar\":{\"outlinewidth\":0,\"ticks\":\"\"},\"colorscale\":[[0.0,\"#0d0887\"],[0.1111111111111111,\"#46039f\"],[0.2222222222222222,\"#7201a8\"],[0.3333333333333333,\"#9c179e\"],[0.4444444444444444,\"#bd3786\"],[0.5555555555555556,\"#d8576b\"],[0.6666666666666666,\"#ed7953\"],[0.7777777777777778,\"#fb9f3a\"],[0.8888888888888888,\"#fdca26\"],[1.0,\"#f0f921\"]],\"type\":\"heatmapgl\"}],\"histogram\":[{\"marker\":{\"pattern\":{\"fillmode\":\"overlay\",\"size\":10,\"solidity\":0.2}},\"type\":\"histogram\"}],\"histogram2d\":[{\"colorbar\":{\"outlinewidth\":0,\"ticks\":\"\"},\"colorscale\":[[0.0,\"#0d0887\"],[0.1111111111111111,\"#46039f\"],[0.2222222222222222,\"#7201a8\"],[0.3333333333333333,\"#9c179e\"],[0.4444444444444444,\"#bd3786\"],[0.5555555555555556,\"#d8576b\"],[0.6666666666666666,\"#ed7953\"],[0.7777777777777778,\"#fb9f3a\"],[0.8888888888888888,\"#fdca26\"],[1.0,\"#f0f921\"]],\"type\":\"histogram2d\"}],\"histogram2dcontour\":[{\"colorbar\":{\"outlinewidth\":0,\"ticks\":\"\"},\"colorscale\":[[0.0,\"#0d0887\"],[0.1111111111111111,\"#46039f\"],[0.2222222222222222,\"#7201a8\"],[0.3333333333333333,\"#9c179e\"],[0.4444444444444444,\"#bd3786\"],[0.5555555555555556,\"#d8576b\"],[0.6666666666666666,\"#ed7953\"],[0.7777777777777778,\"#fb9f3a\"],[0.8888888888888888,\"#fdca26\"],[1.0,\"#f0f921\"]],\"type\":\"histogram2dcontour\"}],\"mesh3d\":[{\"colorbar\":{\"outlinewidth\":0,\"ticks\":\"\"},\"type\":\"mesh3d\"}],\"parcoords\":[{\"line\":{\"colorbar\":{\"outlinewidth\":0,\"ticks\":\"\"}},\"type\":\"parcoords\"}],\"pie\":[{\"automargin\":true,\"type\":\"pie\"}],\"scatter\":[{\"marker\":{\"colorbar\":{\"outlinewidth\":0,\"ticks\":\"\"}},\"type\":\"scatter\"}],\"scatter3d\":[{\"line\":{\"colorbar\":{\"outlinewidth\":0,\"ticks\":\"\"}},\"marker\":{\"colorbar\":{\"outlinewidth\":0,\"ticks\":\"\"}},\"type\":\"scatter3d\"}],\"scattercarpet\":[{\"marker\":{\"colorbar\":{\"outlinewidth\":0,\"ticks\":\"\"}},\"type\":\"scattercarpet\"}],\"scattergeo\":[{\"marker\":{\"colorbar\":{\"outlinewidth\":0,\"ticks\":\"\"}},\"type\":\"scattergeo\"}],\"scattergl\":[{\"marker\":{\"colorbar\":{\"outlinewidth\":0,\"ticks\":\"\"}},\"type\":\"scattergl\"}],\"scattermapbox\":[{\"marker\":{\"colorbar\":{\"outlinewidth\":0,\"ticks\":\"\"}},\"type\":\"scattermapbox\"}],\"scatterpolar\":[{\"marker\":{\"colorbar\":{\"outlinewidth\":0,\"ticks\":\"\"}},\"type\":\"scatterpolar\"}],\"scatterpolargl\":[{\"marker\":{\"colorbar\":{\"outlinewidth\":0,\"ticks\":\"\"}},\"type\":\"scatterpolargl\"}],\"scatterternary\":[{\"marker\":{\"colorbar\":{\"outlinewidth\":0,\"ticks\":\"\"}},\"type\":\"scatterternary\"}],\"surface\":[{\"colorbar\":{\"outlinewidth\":0,\"ticks\":\"\"},\"colorscale\":[[0.0,\"#0d0887\"],[0.1111111111111111,\"#46039f\"],[0.2222222222222222,\"#7201a8\"],[0.3333333333333333,\"#9c179e\"],[0.4444444444444444,\"#bd3786\"],[0.5555555555555556,\"#d8576b\"],[0.6666666666666666,\"#ed7953\"],[0.7777777777777778,\"#fb9f3a\"],[0.8888888888888888,\"#fdca26\"],[1.0,\"#f0f921\"]],\"type\":\"surface\"}],\"table\":[{\"cells\":{\"fill\":{\"color\":\"#EBF0F8\"},\"line\":{\"color\":\"white\"}},\"header\":{\"fill\":{\"color\":\"#C8D4E3\"},\"line\":{\"color\":\"white\"}},\"type\":\"table\"}]},\"layout\":{\"annotationdefaults\":{\"arrowcolor\":\"#2a3f5f\",\"arrowhead\":0,\"arrowwidth\":1},\"autotypenumbers\":\"strict\",\"coloraxis\":{\"colorbar\":{\"outlinewidth\":0,\"ticks\":\"\"}},\"colorscale\":{\"diverging\":[[0,\"#8e0152\"],[0.1,\"#c51b7d\"],[0.2,\"#de77ae\"],[0.3,\"#f1b6da\"],[0.4,\"#fde0ef\"],[0.5,\"#f7f7f7\"],[0.6,\"#e6f5d0\"],[0.7,\"#b8e186\"],[0.8,\"#7fbc41\"],[0.9,\"#4d9221\"],[1,\"#276419\"]],\"sequential\":[[0.0,\"#0d0887\"],[0.1111111111111111,\"#46039f\"],[0.2222222222222222,\"#7201a8\"],[0.3333333333333333,\"#9c179e\"],[0.4444444444444444,\"#bd3786\"],[0.5555555555555556,\"#d8576b\"],[0.6666666666666666,\"#ed7953\"],[0.7777777777777778,\"#fb9f3a\"],[0.8888888888888888,\"#fdca26\"],[1.0,\"#f0f921\"]],\"sequentialminus\":[[0.0,\"#0d0887\"],[0.1111111111111111,\"#46039f\"],[0.2222222222222222,\"#7201a8\"],[0.3333333333333333,\"#9c179e\"],[0.4444444444444444,\"#bd3786\"],[0.5555555555555556,\"#d8576b\"],[0.6666666666666666,\"#ed7953\"],[0.7777777777777778,\"#fb9f3a\"],[0.8888888888888888,\"#fdca26\"],[1.0,\"#f0f921\"]]},\"colorway\":[\"#636efa\",\"#EF553B\",\"#00cc96\",\"#ab63fa\",\"#FFA15A\",\"#19d3f3\",\"#FF6692\",\"#B6E880\",\"#FF97FF\",\"#FECB52\"],\"font\":{\"color\":\"#2a3f5f\"},\"geo\":{\"bgcolor\":\"white\",\"lakecolor\":\"white\",\"landcolor\":\"#E5ECF6\",\"showlakes\":true,\"showland\":true,\"subunitcolor\":\"white\"},\"hoverlabel\":{\"align\":\"left\"},\"hovermode\":\"closest\",\"mapbox\":{\"style\":\"light\"},\"paper_bgcolor\":\"white\",\"plot_bgcolor\":\"#E5ECF6\",\"polar\":{\"angularaxis\":{\"gridcolor\":\"white\",\"linecolor\":\"white\",\"ticks\":\"\"},\"bgcolor\":\"#E5ECF6\",\"radialaxis\":{\"gridcolor\":\"white\",\"linecolor\":\"white\",\"ticks\":\"\"}},\"scene\":{\"xaxis\":{\"backgroundcolor\":\"#E5ECF6\",\"gridcolor\":\"white\",\"gridwidth\":2,\"linecolor\":\"white\",\"showbackground\":true,\"ticks\":\"\",\"zerolinecolor\":\"white\"},\"yaxis\":{\"backgroundcolor\":\"#E5ECF6\",\"gridcolor\":\"white\",\"gridwidth\":2,\"linecolor\":\"white\",\"showbackground\":true,\"ticks\":\"\",\"zerolinecolor\":\"white\"},\"zaxis\":{\"backgroundcolor\":\"#E5ECF6\",\"gridcolor\":\"white\",\"gridwidth\":2,\"linecolor\":\"white\",\"showbackground\":true,\"ticks\":\"\",\"zerolinecolor\":\"white\"}},\"shapedefaults\":{\"line\":{\"color\":\"#2a3f5f\"}},\"ternary\":{\"aaxis\":{\"gridcolor\":\"white\",\"linecolor\":\"white\",\"ticks\":\"\"},\"baxis\":{\"gridcolor\":\"white\",\"linecolor\":\"white\",\"ticks\":\"\"},\"bgcolor\":\"#E5ECF6\",\"caxis\":{\"gridcolor\":\"white\",\"linecolor\":\"white\",\"ticks\":\"\"}},\"title\":{\"x\":0.05},\"xaxis\":{\"automargin\":true,\"gridcolor\":\"white\",\"linecolor\":\"white\",\"ticks\":\"\",\"title\":{\"standoff\":15},\"zerolinecolor\":\"white\",\"zerolinewidth\":2},\"yaxis\":{\"automargin\":true,\"gridcolor\":\"white\",\"linecolor\":\"white\",\"ticks\":\"\",\"title\":{\"standoff\":15},\"zerolinecolor\":\"white\",\"zerolinewidth\":2}}},\"xaxis\":{\"anchor\":\"y\",\"domain\":[0.0,1.0],\"title\":{\"text\":\"z\"}},\"yaxis\":{\"anchor\":\"x\",\"domain\":[0.0,1.0],\"title\":{\"text\":\"sigmoid(z)\"}},\"legend\":{\"tracegroupgap\":0},\"margin\":{\"t\":60}},                        {\"responsive\": true}                    ).then(function(){\n",
       "                            \n",
       "var gd = document.getElementById('587f6747-9421-411c-b57b-c49692421bbe');\n",
       "var x = new MutationObserver(function (mutations, observer) {{\n",
       "        var display = window.getComputedStyle(gd).display;\n",
       "        if (!display || display === 'none') {{\n",
       "            console.log([gd, 'removed!']);\n",
       "            Plotly.purge(gd);\n",
       "            observer.disconnect();\n",
       "        }}\n",
       "}});\n",
       "\n",
       "// Listen for the removal of the full notebook cells\n",
       "var notebookContainer = gd.closest('#notebook-container');\n",
       "if (notebookContainer) {{\n",
       "    x.observe(notebookContainer, {childList: true});\n",
       "}}\n",
       "\n",
       "// Listen for the clearing of the current output cell\n",
       "var outputEl = gd.closest('.output');\n",
       "if (outputEl) {{\n",
       "    x.observe(outputEl, {childList: true});\n",
       "}}\n",
       "\n",
       "                        })                };                });            </script>        </div>"
      ]
     },
     "metadata": {},
     "output_type": "display_data"
    }
   ],
   "source": [
    "import numpy as np\n",
    "import plotly.express as px\n",
    "\n",
    "\n",
    "def _sigmoid(x):\n",
    "    return(1/(1 + np.exp(-x)))\n",
    "\n",
    "\n",
    "z = np.linspace(-10, 10, 100)\n",
    "\n",
    "fig = px.line(x=z, y=_sigmoid(z), labels={'x':'z', 'y':'sigmoid(z)'})\n",
    "fig.show()\n",
    "#fig.write_image(\"sigmoid.png\",engine=\"kaleido\")"
   ]
  },
  {
   "cell_type": "markdown",
   "id": "891649f3",
   "metadata": {},
   "source": [
    "Looking at the graph above, it is generally accepted that if the output falls below 0.5 then our classification is a 0.  Otherwise the classification is a 1.  On the plot above, the output value of 0.5 lies right at the inflection point of the graph."
   ]
  },
  {
   "cell_type": "markdown",
   "id": "4d0526f3",
   "metadata": {},
   "source": [
    "### Let's Implement Logistic Regression from Scratch in Python nd Numpy"
   ]
  },
  {
   "cell_type": "code",
   "execution_count": 23,
   "id": "e4594e3c",
   "metadata": {},
   "outputs": [],
   "source": [
    "import numpy as np\n",
    "from sklearn.model_selection import train_test_split\n",
    "from sklearn import datasets\n",
    "\n",
    "import matplotlib.pyplot as plt\n",
    "\n",
    "\n",
    "    "
   ]
  },
  {
   "cell_type": "code",
   "execution_count": 40,
   "id": "79a07a03",
   "metadata": {},
   "outputs": [],
   "source": [
    "class LogisticRegression:\n",
    "    \n",
    "    def __init__(self, lr=0.001, n_iters=1000):\n",
    "        self.lr = lr\n",
    "        self.n_iters = n_iters\n",
    "        self.weights = None\n",
    "        self.bias = None\n",
    "    \n",
    "    # X is of shape mxn where m is number o(f samples and n is number of features\n",
    "    # y is a one dimensional row vector\n",
    "    def fit(self, X, y):  \n",
    "        #initialize weights\n",
    "        n_samples, n_features = X.shape\n",
    "        self.weights = np.zeros(n_features)\n",
    "        self.bias = 0\n",
    "        \n",
    "        # gradient descent\n",
    "        for _ in range(self.n_iters):\n",
    "            linear_model = np.dot(X, self.weights) + self.bias\n",
    "            y_predict = self._sigmoid(linear_model)\n",
    "            \n",
    "            dw = (1 / n_samples)*np.dot(X.T, (y_predict-y))\n",
    "            db = (1 / n_samples)*np.sum(y_predict - y)\n",
    "            \n",
    "            self.weights -= self.lr * dw\n",
    "            self.bias -= self.lr*db\n",
    "       \n",
    "    \n",
    "    def predict(self, X):\n",
    "        linear_model = np.dot(X, self.weights) + self.bias\n",
    "        y_predicted = self._sigmoid(linear_model)\n",
    "        y_predicted_cls = [1 if i > 0.5 else 0 for i in y_predicted]\n",
    "        return y_predicted_cls\n",
    "        \n",
    "    \n",
    "    def _sigmoid(self, x):\n",
    "        return 1/(1 + np.exp(-x))"
   ]
  },
  {
   "cell_type": "code",
   "execution_count": 41,
   "id": "77f15747",
   "metadata": {},
   "outputs": [],
   "source": [
    "tumor = datasets.load_breast_cancer()\n",
    "X,y = tumor.data, tumor.target"
   ]
  },
  {
   "cell_type": "code",
   "execution_count": 42,
   "id": "9a4f87da",
   "metadata": {},
   "outputs": [],
   "source": [
    "X_train, X_test,y_train, y_test = train_test_split(X, y, test_size=0.2, random_state=1234)\n",
    "\n",
    "\n"
   ]
  },
  {
   "cell_type": "code",
   "execution_count": 43,
   "id": "b7bdbe5e",
   "metadata": {},
   "outputs": [],
   "source": [
    "def accuracy(y_true,y_pred):\n",
    "    accuracy = np.sum(y_true == y_pred)/len(y_true)\n",
    "    return accuracy\n",
    "\n"
   ]
  },
  {
   "cell_type": "code",
   "execution_count": 46,
   "id": "fe4a43df",
   "metadata": {},
   "outputs": [
    {
     "name": "stdout",
     "output_type": "stream",
     "text": [
      "LR classification accuracy is:  0.9298245614035088\n"
     ]
    }
   ],
   "source": [
    "regressor = LogisticRegression(lr = 0.0001, n_iters = 1000)\n",
    "regressor.fit(X_train,y_train)\n",
    "prediction = regressor.predict(X_test)\n",
    "\n",
    "print(\"LR classification accuracy is: \",accuracy(y_test,prediction))"
   ]
  },
  {
   "cell_type": "code",
   "execution_count": null,
   "id": "852cbcaf",
   "metadata": {},
   "outputs": [],
   "source": []
  }
 ],
 "metadata": {
  "kernelspec": {
   "display_name": "Python 3 (ipykernel)",
   "language": "python",
   "name": "python3"
  },
  "language_info": {
   "codemirror_mode": {
    "name": "ipython",
    "version": 3
   },
   "file_extension": ".py",
   "mimetype": "text/x-python",
   "name": "python",
   "nbconvert_exporter": "python",
   "pygments_lexer": "ipython3",
   "version": "3.9.12"
  }
 },
 "nbformat": 4,
 "nbformat_minor": 5
}
